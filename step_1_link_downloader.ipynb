{
 "cells": [
  {
   "cell_type": "code",
   "execution_count": null,
   "metadata": {},
   "outputs": [],
   "source": [
    "from bs4 import BeautifulSoup\n",
    "from urllib.request import Request, urlopen\n",
    "import re\n",
    "import time\n",
    "import numpy as np\n",
    "import pandas as pd\n",
    "import os\n",
    "import inspect"
   ]
  },
  {
   "cell_type": "code",
   "execution_count": null,
   "metadata": {},
   "outputs": [],
   "source": [
    "from bs4 import BeautifulSoup\n",
    "from urllib.request import Request, urlopen\n",
    "\n",
    "site= \"https://ingatlan.com/lista/elado+lakas+szekesfehervar?page=1\"\n",
    "hdr = {'User-Agent': 'Mozilla/5.0'}\n",
    "req = Request(site,headers=hdr)\n",
    "page = urlopen(req)\n",
    "soup = BeautifulSoup(page)\n"
   ]
  },
  {
   "cell_type": "code",
   "execution_count": null,
   "metadata": {},
   "outputs": [],
   "source": [
    "sitenum = soup.find_all(\"div\", class_=\"pagination__page-number\")\n",
    "sitenum = sitenum[0]\n",
    "sitenum = ''.join(i for i in sitenum if i not in '\"')\n",
    "sitenum = sitenum.replace(' 1 / ','')\n",
    "sitenum = sitenum.replace('oldal','')\n",
    "sitenum = sitenum.replace(' ','')\n",
    "sitenum = int(sitenum)\n"
   ]
  },
  {
   "cell_type": "code",
   "execution_count": null,
   "metadata": {},
   "outputs": [],
   "source": [
    "print(\"All the sites: \" + str(sitenum))"
   ]
  },
  {
   "cell_type": "code",
   "execution_count": null,
   "metadata": {},
   "outputs": [],
   "source": [
    "i = 1\n",
    "links = []\n",
    "while i <= sitenum:\n",
    "    site= \"https://ingatlan.com/lista/elado+lakas+szekesfehervar?page=1\" + str(i)\n",
    "    req = Request(site,headers=hdr)\n",
    "    page = urlopen(req)\n",
    "    soup = BeautifulSoup(page)\n",
    "\n",
    "    for link in soup.findAll('a'):\n",
    "        links.append(link.get('href'))\n",
    "    links = [i for i in links if i]\n",
    "    substring = [\"/elado+lakas/\"]\n",
    "    matching = [s for s in links if any(xs in s for xs in substring)]\n",
    "    time.sleep(0.5) #dont want to overwhelm the site\n",
    "    print(\"Site done \" + str(i))\n",
    "    i = i + 1\n"
   ]
  },
  {
   "cell_type": "code",
   "execution_count": null,
   "metadata": {},
   "outputs": [],
   "source": [
    "matching = np.array(matching)"
   ]
  },
  {
   "cell_type": "code",
   "execution_count": null,
   "metadata": {},
   "outputs": [],
   "source": [
    "df = pd.DataFrame()\n",
    "df['link']=pd.Series(matching)"
   ]
  },
  {
   "cell_type": "code",
   "execution_count": null,
   "metadata": {},
   "outputs": [],
   "source": [
    "df = df.drop_duplicates( keep='last')\n",
    "df = df.reset_index(drop=True)"
   ]
  },
  {
   "cell_type": "code",
   "execution_count": null,
   "metadata": {},
   "outputs": [],
   "source": [
    "df.to_csv(\"link_df.csv\")"
   ]
  },
  {
   "cell_type": "code",
   "execution_count": null,
   "metadata": {},
   "outputs": [],
   "source": []
  }
 ],
 "metadata": {
  "kernelspec": {
   "display_name": "Python 3.10.5 64-bit",
   "language": "python",
   "name": "python3"
  },
  "language_info": {
   "codemirror_mode": {
    "name": "ipython",
    "version": 3
   },
   "file_extension": ".py",
   "mimetype": "text/x-python",
   "name": "python",
   "nbconvert_exporter": "python",
   "pygments_lexer": "ipython3",
   "version": "3.10.5"
  },
  "orig_nbformat": 4,
  "vscode": {
   "interpreter": {
    "hash": "6d41ad229febd3ce6972dbee622deb109075adaf3bf1f73bbf0283b8f7fc9326"
   }
  }
 },
 "nbformat": 4,
 "nbformat_minor": 2
}
