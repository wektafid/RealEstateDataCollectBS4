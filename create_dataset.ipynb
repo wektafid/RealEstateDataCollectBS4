{
 "cells": [
  {
   "cell_type": "code",
   "execution_count": null,
   "metadata": {},
   "outputs": [],
   "source": [
    "import pandas as pd\n",
    "from bs4 import BeautifulSoup\n",
    "from urllib.request import Request, urlopen\n",
    "import time\n",
    "from datetime import datetime\n",
    "from urllib.error import HTTPError\n",
    "import requests"
   ]
  },
  {
   "cell_type": "code",
   "execution_count": null,
   "metadata": {},
   "outputs": [],
   "source": [
    "df = pd.read_csv(\"links.csv\", index_col=[0])\n",
    "df = df.drop_duplicates( keep='last')\n",
    "df = df.reset_index(drop=True)"
   ]
  },
  {
   "cell_type": "code",
   "execution_count": null,
   "metadata": {},
   "outputs": [],
   "source": [
    "df['location'] = df['link'].str.split('/').str[1]\n",
    "df['type'] = df['link'].str.split('/').str[3]"
   ]
  },
  {
   "cell_type": "code",
   "execution_count": null,
   "metadata": {},
   "outputs": [],
   "source": [
    "hdr = {'User-Agent': 'Mozilla/5.0'}\n",
    "price_df = []\n",
    "size_df = []\n",
    "rooms_df = []\n",
    "num = 1\n",
    "for i in df['link']:\n",
    "    site = \"https://ingatlan.com\" + str(i)\n",
    "    \n",
    "    try:\n",
    "        response = requests.get(site, headers=hdr)\n",
    "        response.raise_for_status()\n",
    "    except HTTPError as hp:\n",
    "        print(hp)\n",
    "     \n",
    "    else:\n",
    "        site= \"https://ingatlan.com\" + str(i)\n",
    "        req = Request(site,headers=hdr)\n",
    "        page = urlopen(req)\n",
    "        soup = BeautifulSoup(page)\n",
    "        price = soup.find_all('span', {'fw-bold fs-5 text-nowrap'})\n",
    "        price = price[0].get_text()\n",
    "        price = price.strip()\n",
    "        price_df.append(price)\n",
    "\n",
    "        rooms = soup.find_all('span', {'fw-bold fs-5'})\n",
    "        rooms = rooms[1].get_text()\n",
    "        rooms = rooms.strip()\n",
    "        rooms_df.append(rooms)\n",
    "\n",
    "        size = soup.find_all('span', {'fw-bold fs-5'})\n",
    "        size = size[0].get_text()\n",
    "        size = size.strip()\n",
    "        size_df.append(size)\n",
    "        \n",
    "        print('done: ' + str(num) + \" from \" + str(len(df)))\n",
    "        num = num + 1\n",
    "        #time.sleep(2.5) #dont want to overwhelm the site"
   ]
  },
  {
   "cell_type": "code",
   "execution_count": null,
   "metadata": {},
   "outputs": [],
   "source": [
    "df['size'] = size_df\n",
    "df['rooms'] = rooms_df\n",
    "df['price'] = price_df"
   ]
  },
  {
   "cell_type": "code",
   "execution_count": null,
   "metadata": {},
   "outputs": [],
   "source": [
    "\n",
    "now = datetime.now() # current date and time\n",
    "date = now.strftime(\"%Y-%m-%d\")\n",
    "df.to_csv(\"dataframe-\" + date + \".csv\", sep = \";\")"
   ]
  },
  {
   "cell_type": "code",
   "execution_count": null,
   "metadata": {},
   "outputs": [],
   "source": []
  }
 ],
 "metadata": {
  "kernelspec": {
   "display_name": "Python 3.10.5 64-bit",
   "language": "python",
   "name": "python3"
  },
  "language_info": {
   "codemirror_mode": {
    "name": "ipython",
    "version": 3
   },
   "file_extension": ".py",
   "mimetype": "text/x-python",
   "name": "python",
   "nbconvert_exporter": "python",
   "pygments_lexer": "ipython3",
   "version": "3.10.5"
  },
  "orig_nbformat": 4,
  "vscode": {
   "interpreter": {
    "hash": "6d41ad229febd3ce6972dbee622deb109075adaf3bf1f73bbf0283b8f7fc9326"
   }
  }
 },
 "nbformat": 4,
 "nbformat_minor": 2
}
