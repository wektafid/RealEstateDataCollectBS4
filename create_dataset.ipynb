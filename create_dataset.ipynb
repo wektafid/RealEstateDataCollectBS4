{
 "cells": [
  {
   "cell_type": "code",
   "execution_count": 161,
   "metadata": {},
   "outputs": [],
   "source": [
    "import pandas as pd\n",
    "from bs4 import BeautifulSoup\n",
    "from urllib.request import Request, urlopen\n",
    "import time"
   ]
  },
  {
   "cell_type": "code",
   "execution_count": 154,
   "metadata": {},
   "outputs": [],
   "source": [
    "df = pd.read_csv(\"links.csv\", index_col=[0])\n",
    "df = df.drop_duplicates( keep='last')\n",
    "df = df.reset_index(drop=True)"
   ]
  },
  {
   "cell_type": "code",
   "execution_count": 155,
   "metadata": {},
   "outputs": [],
   "source": [
    "df['location'] = df['link'].str.split('/').str[1]\n",
    "df['type'] = df['link'].str.split('/').str[3]"
   ]
  },
  {
   "cell_type": "code",
   "execution_count": 156,
   "metadata": {},
   "outputs": [],
   "source": [
    "site= \"https://ingatlan.com/xiii-ker/elado+lakas/tegla-epitesu-lakas/32932734\"\n",
    "hdr = {'User-Agent': 'Mozilla/5.0'}\n",
    "req = Request(site,headers=hdr)\n",
    "page = urlopen(req)\n",
    "soup = BeautifulSoup(page)"
   ]
  },
  {
   "cell_type": "code",
   "execution_count": 157,
   "metadata": {},
   "outputs": [
    {
     "data": {
      "text/plain": [
       "'54,99 millió Ft'"
      ]
     },
     "execution_count": 157,
     "metadata": {},
     "output_type": "execute_result"
    }
   ],
   "source": [
    "price = soup.find_all('span', {'fw-bold fs-5 text-nowrap'})\n",
    "price = price[0].get_text()\n",
    "price = price.strip()\n",
    "\n",
    "\n",
    "price\n"
   ]
  },
  {
   "cell_type": "code",
   "execution_count": 158,
   "metadata": {},
   "outputs": [
    {
     "data": {
      "text/plain": [
       "'60 m2'"
      ]
     },
     "execution_count": 158,
     "metadata": {},
     "output_type": "execute_result"
    }
   ],
   "source": [
    "size = soup.find_all('span', {'fw-bold fs-5'})\n",
    "size = size[0].get_text()\n",
    "size = size.strip()\n",
    "size"
   ]
  },
  {
   "cell_type": "code",
   "execution_count": 159,
   "metadata": {},
   "outputs": [
    {
     "data": {
      "text/plain": [
       "'2'"
      ]
     },
     "execution_count": 159,
     "metadata": {},
     "output_type": "execute_result"
    }
   ],
   "source": [
    "rooms = soup.find_all('span', {'fw-bold fs-5'})\n",
    "rooms = rooms[1].get_text()\n",
    "rooms = rooms.strip()\n",
    "rooms"
   ]
  },
  {
   "cell_type": "code",
   "execution_count": 160,
   "metadata": {},
   "outputs": [
    {
     "data": {
      "text/html": [
       "<div>\n",
       "<style scoped>\n",
       "    .dataframe tbody tr th:only-of-type {\n",
       "        vertical-align: middle;\n",
       "    }\n",
       "\n",
       "    .dataframe tbody tr th {\n",
       "        vertical-align: top;\n",
       "    }\n",
       "\n",
       "    .dataframe thead th {\n",
       "        text-align: right;\n",
       "    }\n",
       "</style>\n",
       "<table border=\"1\" class=\"dataframe\">\n",
       "  <thead>\n",
       "    <tr style=\"text-align: right;\">\n",
       "      <th></th>\n",
       "      <th>link</th>\n",
       "      <th>location</th>\n",
       "      <th>type</th>\n",
       "    </tr>\n",
       "  </thead>\n",
       "  <tbody>\n",
       "    <tr>\n",
       "      <th>0</th>\n",
       "      <td>/xiii-ker/elado+lakas/tegla-epitesu-lakas/3293...</td>\n",
       "      <td>xiii-ker</td>\n",
       "      <td>tegla-epitesu-lakas</td>\n",
       "    </tr>\n",
       "    <tr>\n",
       "      <th>1</th>\n",
       "      <td>/viii-ker/elado+lakas/tegla-epitesu-lakas/3298...</td>\n",
       "      <td>viii-ker</td>\n",
       "      <td>tegla-epitesu-lakas</td>\n",
       "    </tr>\n",
       "    <tr>\n",
       "      <th>2</th>\n",
       "      <td>/xiv-ker/elado+lakas/tegla-epitesu-lakas/32879321</td>\n",
       "      <td>xiv-ker</td>\n",
       "      <td>tegla-epitesu-lakas</td>\n",
       "    </tr>\n",
       "    <tr>\n",
       "      <th>3</th>\n",
       "      <td>/xiii-ker/elado+lakas/tegla-epitesu-lakas/3300...</td>\n",
       "      <td>xiii-ker</td>\n",
       "      <td>tegla-epitesu-lakas</td>\n",
       "    </tr>\n",
       "    <tr>\n",
       "      <th>4</th>\n",
       "      <td>/vii-ker/elado+lakas/tegla-epitesu-lakas/32772342</td>\n",
       "      <td>vii-ker</td>\n",
       "      <td>tegla-epitesu-lakas</td>\n",
       "    </tr>\n",
       "    <tr>\n",
       "      <th>...</th>\n",
       "      <td>...</td>\n",
       "      <td>...</td>\n",
       "      <td>...</td>\n",
       "    </tr>\n",
       "    <tr>\n",
       "      <th>51145</th>\n",
       "      <td>/gyor-revfalu/elado+lakas/tegla-epitesu-lakas/...</td>\n",
       "      <td>gyor-revfalu</td>\n",
       "      <td>tegla-epitesu-lakas</td>\n",
       "    </tr>\n",
       "    <tr>\n",
       "      <th>51146</th>\n",
       "      <td>/vii-ker/elado+lakas/tegla-epitesu-lakas/5196070</td>\n",
       "      <td>vii-ker</td>\n",
       "      <td>tegla-epitesu-lakas</td>\n",
       "    </tr>\n",
       "    <tr>\n",
       "      <th>51147</th>\n",
       "      <td>/vi-ker/elado+lakas/tegla-epitesu-lakas/5069451</td>\n",
       "      <td>vi-ker</td>\n",
       "      <td>tegla-epitesu-lakas</td>\n",
       "    </tr>\n",
       "    <tr>\n",
       "      <th>51148</th>\n",
       "      <td>/viii-ker/elado+lakas/tegla-epitesu-lakas/4563923</td>\n",
       "      <td>viii-ker</td>\n",
       "      <td>tegla-epitesu-lakas</td>\n",
       "    </tr>\n",
       "    <tr>\n",
       "      <th>51149</th>\n",
       "      <td>/vii-ker/elado+lakas/tegla-epitesu-lakas/3088932</td>\n",
       "      <td>vii-ker</td>\n",
       "      <td>tegla-epitesu-lakas</td>\n",
       "    </tr>\n",
       "  </tbody>\n",
       "</table>\n",
       "<p>51150 rows × 3 columns</p>\n",
       "</div>"
      ],
      "text/plain": [
       "                                                    link      location  \\\n",
       "0      /xiii-ker/elado+lakas/tegla-epitesu-lakas/3293...      xiii-ker   \n",
       "1      /viii-ker/elado+lakas/tegla-epitesu-lakas/3298...      viii-ker   \n",
       "2      /xiv-ker/elado+lakas/tegla-epitesu-lakas/32879321       xiv-ker   \n",
       "3      /xiii-ker/elado+lakas/tegla-epitesu-lakas/3300...      xiii-ker   \n",
       "4      /vii-ker/elado+lakas/tegla-epitesu-lakas/32772342       vii-ker   \n",
       "...                                                  ...           ...   \n",
       "51145  /gyor-revfalu/elado+lakas/tegla-epitesu-lakas/...  gyor-revfalu   \n",
       "51146   /vii-ker/elado+lakas/tegla-epitesu-lakas/5196070       vii-ker   \n",
       "51147    /vi-ker/elado+lakas/tegla-epitesu-lakas/5069451        vi-ker   \n",
       "51148  /viii-ker/elado+lakas/tegla-epitesu-lakas/4563923      viii-ker   \n",
       "51149   /vii-ker/elado+lakas/tegla-epitesu-lakas/3088932       vii-ker   \n",
       "\n",
       "                      type  \n",
       "0      tegla-epitesu-lakas  \n",
       "1      tegla-epitesu-lakas  \n",
       "2      tegla-epitesu-lakas  \n",
       "3      tegla-epitesu-lakas  \n",
       "4      tegla-epitesu-lakas  \n",
       "...                    ...  \n",
       "51145  tegla-epitesu-lakas  \n",
       "51146  tegla-epitesu-lakas  \n",
       "51147  tegla-epitesu-lakas  \n",
       "51148  tegla-epitesu-lakas  \n",
       "51149  tegla-epitesu-lakas  \n",
       "\n",
       "[51150 rows x 3 columns]"
      ]
     },
     "execution_count": 160,
     "metadata": {},
     "output_type": "execute_result"
    }
   ],
   "source": [
    "df"
   ]
  },
  {
   "cell_type": "code",
   "execution_count": null,
   "metadata": {},
   "outputs": [],
   "source": []
  }
 ],
 "metadata": {
  "kernelspec": {
   "display_name": "Python 3.10.5 64-bit",
   "language": "python",
   "name": "python3"
  },
  "language_info": {
   "codemirror_mode": {
    "name": "ipython",
    "version": 3
   },
   "file_extension": ".py",
   "mimetype": "text/x-python",
   "name": "python",
   "nbconvert_exporter": "python",
   "pygments_lexer": "ipython3",
   "version": "3.10.5"
  },
  "orig_nbformat": 4,
  "vscode": {
   "interpreter": {
    "hash": "6d41ad229febd3ce6972dbee622deb109075adaf3bf1f73bbf0283b8f7fc9326"
   }
  }
 },
 "nbformat": 4,
 "nbformat_minor": 2
}
