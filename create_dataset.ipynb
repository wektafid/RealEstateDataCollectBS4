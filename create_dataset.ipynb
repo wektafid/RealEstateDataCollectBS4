{
 "cells": [
  {
   "cell_type": "code",
   "execution_count": 54,
   "metadata": {},
   "outputs": [],
   "source": [
    "import pandas as pd"
   ]
  },
  {
   "cell_type": "code",
   "execution_count": 55,
   "metadata": {},
   "outputs": [],
   "source": [
    "df = pd.read_csv(\"links.csv\", index_col=[0])\n",
    "df = df.drop_duplicates( keep='last')\n",
    "df = df.reset_index(drop=True)"
   ]
  },
  {
   "cell_type": "code",
   "execution_count": 56,
   "metadata": {},
   "outputs": [],
   "source": [
    "df['true_link'] = 'https://ingatlan.com/' + df['link']\n",
    "df['true_link'] = df['true_link'].astype('str')"
   ]
  },
  {
   "cell_type": "code",
   "execution_count": 65,
   "metadata": {},
   "outputs": [],
   "source": [
    "df['location'] = df['link'].str.split('/').str[1]\n",
    "df['type'] = df['link'].str.split('/').str[3]"
   ]
  },
  {
   "cell_type": "code",
   "execution_count": 67,
   "metadata": {},
   "outputs": [
    {
     "data": {
      "text/html": [
       "<div>\n",
       "<style scoped>\n",
       "    .dataframe tbody tr th:only-of-type {\n",
       "        vertical-align: middle;\n",
       "    }\n",
       "\n",
       "    .dataframe tbody tr th {\n",
       "        vertical-align: top;\n",
       "    }\n",
       "\n",
       "    .dataframe thead th {\n",
       "        text-align: right;\n",
       "    }\n",
       "</style>\n",
       "<table border=\"1\" class=\"dataframe\">\n",
       "  <thead>\n",
       "    <tr style=\"text-align: right;\">\n",
       "      <th></th>\n",
       "      <th>link</th>\n",
       "      <th>true_link</th>\n",
       "      <th>location</th>\n",
       "      <th>type</th>\n",
       "    </tr>\n",
       "  </thead>\n",
       "  <tbody>\n",
       "    <tr>\n",
       "      <th>0</th>\n",
       "      <td>/xiii-ker/elado+lakas/tegla-epitesu-lakas/3293...</td>\n",
       "      <td>https://ingatlan.com//xiii-ker/elado+lakas/teg...</td>\n",
       "      <td>xiii-ker</td>\n",
       "      <td>tegla-epitesu-lakas</td>\n",
       "    </tr>\n",
       "    <tr>\n",
       "      <th>1</th>\n",
       "      <td>/viii-ker/elado+lakas/tegla-epitesu-lakas/3298...</td>\n",
       "      <td>https://ingatlan.com//viii-ker/elado+lakas/teg...</td>\n",
       "      <td>viii-ker</td>\n",
       "      <td>tegla-epitesu-lakas</td>\n",
       "    </tr>\n",
       "    <tr>\n",
       "      <th>2</th>\n",
       "      <td>/xiv-ker/elado+lakas/tegla-epitesu-lakas/32879321</td>\n",
       "      <td>https://ingatlan.com//xiv-ker/elado+lakas/tegl...</td>\n",
       "      <td>xiv-ker</td>\n",
       "      <td>tegla-epitesu-lakas</td>\n",
       "    </tr>\n",
       "    <tr>\n",
       "      <th>3</th>\n",
       "      <td>/xiii-ker/elado+lakas/tegla-epitesu-lakas/3300...</td>\n",
       "      <td>https://ingatlan.com//xiii-ker/elado+lakas/teg...</td>\n",
       "      <td>xiii-ker</td>\n",
       "      <td>tegla-epitesu-lakas</td>\n",
       "    </tr>\n",
       "    <tr>\n",
       "      <th>4</th>\n",
       "      <td>/vii-ker/elado+lakas/tegla-epitesu-lakas/32772342</td>\n",
       "      <td>https://ingatlan.com//vii-ker/elado+lakas/tegl...</td>\n",
       "      <td>vii-ker</td>\n",
       "      <td>tegla-epitesu-lakas</td>\n",
       "    </tr>\n",
       "    <tr>\n",
       "      <th>...</th>\n",
       "      <td>...</td>\n",
       "      <td>...</td>\n",
       "      <td>...</td>\n",
       "      <td>...</td>\n",
       "    </tr>\n",
       "    <tr>\n",
       "      <th>51145</th>\n",
       "      <td>/gyor-revfalu/elado+lakas/tegla-epitesu-lakas/...</td>\n",
       "      <td>https://ingatlan.com//gyor-revfalu/elado+lakas...</td>\n",
       "      <td>gyor-revfalu</td>\n",
       "      <td>tegla-epitesu-lakas</td>\n",
       "    </tr>\n",
       "    <tr>\n",
       "      <th>51146</th>\n",
       "      <td>/vii-ker/elado+lakas/tegla-epitesu-lakas/5196070</td>\n",
       "      <td>https://ingatlan.com//vii-ker/elado+lakas/tegl...</td>\n",
       "      <td>vii-ker</td>\n",
       "      <td>tegla-epitesu-lakas</td>\n",
       "    </tr>\n",
       "    <tr>\n",
       "      <th>51147</th>\n",
       "      <td>/vi-ker/elado+lakas/tegla-epitesu-lakas/5069451</td>\n",
       "      <td>https://ingatlan.com//vi-ker/elado+lakas/tegla...</td>\n",
       "      <td>vi-ker</td>\n",
       "      <td>tegla-epitesu-lakas</td>\n",
       "    </tr>\n",
       "    <tr>\n",
       "      <th>51148</th>\n",
       "      <td>/viii-ker/elado+lakas/tegla-epitesu-lakas/4563923</td>\n",
       "      <td>https://ingatlan.com//viii-ker/elado+lakas/teg...</td>\n",
       "      <td>viii-ker</td>\n",
       "      <td>tegla-epitesu-lakas</td>\n",
       "    </tr>\n",
       "    <tr>\n",
       "      <th>51149</th>\n",
       "      <td>/vii-ker/elado+lakas/tegla-epitesu-lakas/3088932</td>\n",
       "      <td>https://ingatlan.com//vii-ker/elado+lakas/tegl...</td>\n",
       "      <td>vii-ker</td>\n",
       "      <td>tegla-epitesu-lakas</td>\n",
       "    </tr>\n",
       "  </tbody>\n",
       "</table>\n",
       "<p>51150 rows × 4 columns</p>\n",
       "</div>"
      ],
      "text/plain": [
       "                                                    link  \\\n",
       "0      /xiii-ker/elado+lakas/tegla-epitesu-lakas/3293...   \n",
       "1      /viii-ker/elado+lakas/tegla-epitesu-lakas/3298...   \n",
       "2      /xiv-ker/elado+lakas/tegla-epitesu-lakas/32879321   \n",
       "3      /xiii-ker/elado+lakas/tegla-epitesu-lakas/3300...   \n",
       "4      /vii-ker/elado+lakas/tegla-epitesu-lakas/32772342   \n",
       "...                                                  ...   \n",
       "51145  /gyor-revfalu/elado+lakas/tegla-epitesu-lakas/...   \n",
       "51146   /vii-ker/elado+lakas/tegla-epitesu-lakas/5196070   \n",
       "51147    /vi-ker/elado+lakas/tegla-epitesu-lakas/5069451   \n",
       "51148  /viii-ker/elado+lakas/tegla-epitesu-lakas/4563923   \n",
       "51149   /vii-ker/elado+lakas/tegla-epitesu-lakas/3088932   \n",
       "\n",
       "                                               true_link      location  \\\n",
       "0      https://ingatlan.com//xiii-ker/elado+lakas/teg...      xiii-ker   \n",
       "1      https://ingatlan.com//viii-ker/elado+lakas/teg...      viii-ker   \n",
       "2      https://ingatlan.com//xiv-ker/elado+lakas/tegl...       xiv-ker   \n",
       "3      https://ingatlan.com//xiii-ker/elado+lakas/teg...      xiii-ker   \n",
       "4      https://ingatlan.com//vii-ker/elado+lakas/tegl...       vii-ker   \n",
       "...                                                  ...           ...   \n",
       "51145  https://ingatlan.com//gyor-revfalu/elado+lakas...  gyor-revfalu   \n",
       "51146  https://ingatlan.com//vii-ker/elado+lakas/tegl...       vii-ker   \n",
       "51147  https://ingatlan.com//vi-ker/elado+lakas/tegla...        vi-ker   \n",
       "51148  https://ingatlan.com//viii-ker/elado+lakas/teg...      viii-ker   \n",
       "51149  https://ingatlan.com//vii-ker/elado+lakas/tegl...       vii-ker   \n",
       "\n",
       "                      type  \n",
       "0      tegla-epitesu-lakas  \n",
       "1      tegla-epitesu-lakas  \n",
       "2      tegla-epitesu-lakas  \n",
       "3      tegla-epitesu-lakas  \n",
       "4      tegla-epitesu-lakas  \n",
       "...                    ...  \n",
       "51145  tegla-epitesu-lakas  \n",
       "51146  tegla-epitesu-lakas  \n",
       "51147  tegla-epitesu-lakas  \n",
       "51148  tegla-epitesu-lakas  \n",
       "51149  tegla-epitesu-lakas  \n",
       "\n",
       "[51150 rows x 4 columns]"
      ]
     },
     "execution_count": 67,
     "metadata": {},
     "output_type": "execute_result"
    }
   ],
   "source": [
    "df"
   ]
  },
  {
   "cell_type": "code",
   "execution_count": null,
   "metadata": {},
   "outputs": [],
   "source": []
  }
 ],
 "metadata": {
  "kernelspec": {
   "display_name": "Python 3.10.5 64-bit",
   "language": "python",
   "name": "python3"
  },
  "language_info": {
   "codemirror_mode": {
    "name": "ipython",
    "version": 3
   },
   "file_extension": ".py",
   "mimetype": "text/x-python",
   "name": "python",
   "nbconvert_exporter": "python",
   "pygments_lexer": "ipython3",
   "version": "3.10.5"
  },
  "orig_nbformat": 4,
  "vscode": {
   "interpreter": {
    "hash": "6d41ad229febd3ce6972dbee622deb109075adaf3bf1f73bbf0283b8f7fc9326"
   }
  }
 },
 "nbformat": 4,
 "nbformat_minor": 2
}
