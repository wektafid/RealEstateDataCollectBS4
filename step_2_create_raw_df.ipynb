{
 "cells": [
  {
   "cell_type": "code",
   "execution_count": null,
   "metadata": {},
   "outputs": [],
   "source": [
    "import pandas as pd\n",
    "from bs4 import BeautifulSoup\n",
    "from urllib.request import Request, urlopen\n",
    "import time\n",
    "from urllib.error import HTTPError\n",
    "import requests\n",
    "import json"
   ]
  },
  {
   "cell_type": "code",
   "execution_count": null,
   "metadata": {},
   "outputs": [],
   "source": [
    "df_link = pd.read_csv(\"link_df.csv\", index_col=[0])"
   ]
  },
  {
   "cell_type": "code",
   "execution_count": null,
   "metadata": {},
   "outputs": [],
   "source": [
    "df = pd.DataFrame()\n",
    "hdr = {'User-Agent': 'Mozilla/5.0'}\n",
    "num = 1\n",
    "for i in df_link['link']:\n",
    "    site = \"https://ingatlan.com\" + str(i)\n",
    "    \n",
    "    try:\n",
    "        response = requests.get(site, headers=hdr)\n",
    "        response.raise_for_status()\n",
    "    except:\n",
    "        print(\"failure\")\n",
    "        num = num+1\n",
    "    else:\n",
    "        site= \"https://ingatlan.com\" + str(i)\n",
    "        req = Request(site,headers=hdr)\n",
    "        page = urlopen(req)\n",
    "        soup = BeautifulSoup(page)\n",
    "        data = json.loads(soup.find('div', id=\"listing\", class_=\"d-none\", attrs=\"data-listing\").get('data-listing'))\n",
    "        temp = pd.json_normalize(data)\n",
    "        print(str(num) + \". Link done \" + str(i))\n",
    "        df = pd.concat([df, temp], axis = 0)\n",
    "        num = num + 1\n",
    "        if num % 50 == 0:\n",
    "            time.sleep(3)\n",
    "            response.close()\n"
   ]
  },
  {
   "cell_type": "code",
   "execution_count": null,
   "metadata": {},
   "outputs": [],
   "source": [
    "df.to_csv(\"raw_df.csv\", sep = \";\")"
   ]
  }
 ],
 "metadata": {
  "kernelspec": {
   "display_name": "Python 3.10.5 64-bit",
   "language": "python",
   "name": "python3"
  },
  "language_info": {
   "codemirror_mode": {
    "name": "ipython",
    "version": 3
   },
   "file_extension": ".py",
   "mimetype": "text/x-python",
   "name": "python",
   "nbconvert_exporter": "python",
   "pygments_lexer": "ipython3",
   "version": "3.10.5"
  },
  "orig_nbformat": 4,
  "vscode": {
   "interpreter": {
    "hash": "6d41ad229febd3ce6972dbee622deb109075adaf3bf1f73bbf0283b8f7fc9326"
   }
  }
 },
 "nbformat": 4,
 "nbformat_minor": 2
}
