{
 "cells": [
  {
   "cell_type": "code",
   "execution_count": 28,
   "metadata": {},
   "outputs": [],
   "source": [
    "import pandas as pd"
   ]
  },
  {
   "cell_type": "code",
   "execution_count": 29,
   "metadata": {},
   "outputs": [],
   "source": [
    "df = pd.read_csv('raw_df.csv',sep = \";\")"
   ]
  },
  {
   "cell_type": "code",
   "execution_count": 30,
   "metadata": {},
   "outputs": [],
   "source": [
    "df['price'] = df['price'].replace(' ezer ','000', regex=True)\n",
    "df['squaremeter'] = df['squaremeter'].replace('m2','', regex=True)\n",
    "df['type'] = df['type'].replace('tegla-epitesu-lakas','brick', regex=True)\n",
    "df['type'] = df['type'].replace('panel-lakas','panel concrete', regex=True)\n",
    "\n",
    "df['location'] = df['location'].replace('-ker','. district', regex=True)"
   ]
  }
 ],
 "metadata": {
  "kernelspec": {
   "display_name": "Python 3.10.5 64-bit",
   "language": "python",
   "name": "python3"
  },
  "language_info": {
   "codemirror_mode": {
    "name": "ipython",
    "version": 3
   },
   "file_extension": ".py",
   "mimetype": "text/x-python",
   "name": "python",
   "nbconvert_exporter": "python",
   "pygments_lexer": "ipython3",
   "version": "3.10.5"
  },
  "orig_nbformat": 4,
  "vscode": {
   "interpreter": {
    "hash": "6d41ad229febd3ce6972dbee622deb109075adaf3bf1f73bbf0283b8f7fc9326"
   }
  }
 },
 "nbformat": 4,
 "nbformat_minor": 2
}
